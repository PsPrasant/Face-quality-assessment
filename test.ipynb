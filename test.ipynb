{
 "cells": [
  {
   "cell_type": "code",
   "execution_count": 1,
   "metadata": {
    "collapsed": true
   },
   "outputs": [],
   "source": [
    "import tensorflow as tf\n",
    "import numpy as np\n",
    "import matplotlib.pyplot as plt\n",
    "import sys"
   ]
  },
  {
   "cell_type": "code",
   "execution_count": 2,
   "metadata": {
    "collapsed": false
   },
   "outputs": [],
   "source": [
    "# Load the required input data\n",
    "x_train = np.load('Data/x_train.npy')\n",
    "x_test = np.load('Data/x_test.npy')\n",
    "x_train = np.squeeze(x_train)\n",
    "x_test = np.squeeze(x_test)\n",
    "\n",
    "lab_train = np.load('Data/lab_train.npy')\n",
    "lab_test = np.load('Data/lab_test.npy')\n",
    "lab_train = np.squeeze(lab_train)\n",
    "lab_test = np.squeeze(lab_test)\n",
    "\n",
    "# Load weights and biases of the autoencoder trained previously\n",
    "w = np.load('Data/ae-weights.npy')\n",
    "b = np.load('Data/ae-biases.npy')\n",
    "\n",
    "# Parameters\n",
    "learning_rate = 0.001\n",
    "training_epochs = 20\n",
    "\n",
    "# Network Parameters\n",
    "n_hidden_1 = 128\n",
    "n_hidden_2 = 50\n",
    "n_input = 256\n",
    "n_classes = 3\n",
    "\n",
    "# tf Graph input\n",
    "x = tf.placeholder(\"float\", [None, n_input])\n",
    "y = tf.placeholder(\"float\", [None, n_classes])\n",
    "\n",
    "# weights = {\n",
    "#     'h1': tf.Variable(w[()]['encoder_h1']),\n",
    "#     'h2': tf.Variable(w[()]['encoder_h2']),\n",
    "#     'out': tf.Variable(tf.random_normal([n_hidden_2, n_classes]))\n",
    "# }\n",
    "# biases = {\n",
    "#     'b1': tf.Variable(b[()]['encoder_b1']),\n",
    "#     'b2': tf.Variable(b[()]['encoder_b2']),\n",
    "#     'out': tf.Variable(tf.random_normal([n_classes]))\n",
    "# }\n",
    "\n",
    "weights = {\n",
    "    'h1': tf.Variable(tf.random_normal([n_input, n_hidden_1])),\n",
    "    'h2': tf.Variable(tf.random_normal([n_hidden_1, n_hidden_2])),\n",
    "    'out': tf.Variable(tf.random_normal([n_hidden_2, n_classes]))\n",
    "}\n",
    "biases = {\n",
    "    'b1': tf.Variable(tf.random_normal([n_hidden_1])),\n",
    "    'b2': tf.Variable(tf.random_normal([n_hidden_2])),\n",
    "    'out': tf.Variable(tf.random_normal([n_classes]))\n",
    "}\n",
    "\n",
    "# Create model\n",
    "def multilayer_perceptron(x, weights, biases):\n",
    "    layer_1 = tf.add(tf.matmul(x, weights['h1']), biases['b1'])\n",
    "    layer_1 = tf.nn.relu(layer_1)\n",
    "\n",
    "    layer_2 = tf.add(tf.matmul(layer_1, weights['h2']), biases['b2'])\n",
    "    layer_2 = tf.nn.relu(layer_2)\n",
    "\n",
    "    out_layer = tf.matmul(layer_2, weights['out']) + biases['out']\n",
    "    return out_layer\n",
    "\n",
    "pred = multilayer_perceptron(x, weights, biases)\n",
    "\n",
    "cost = tf.reduce_mean(tf.nn.softmax_cross_entropy_with_logits(logits=pred, labels=y))\n",
    "optimizer = tf.train.AdamOptimizer(learning_rate=learning_rate).minimize(cost)\n",
    "\n",
    "init = tf.initialize_all_variables()\n"
   ]
  },
  {
   "cell_type": "code",
   "execution_count": 4,
   "metadata": {
    "collapsed": false,
    "scrolled": true
   },
   "outputs": [
    {
     "name": "stdout",
     "output_type": "stream",
     "text": [
      "Total Number of Batches: 47\n",
      "Epoch: 1 cost: 1759.39108792\n",
      "Epoch: 2 cost: 277.506376672\n",
      "Epoch: 3 cost: 152.696823607\n",
      "Epoch: 4 cost: 116.631545716\n",
      "Epoch: 5 cost: 102.060590338\n",
      "Epoch: 6 cost: 95.9915178177\n",
      "Epoch: 7 cost: 87.5142632647\n",
      "Epoch: 8 cost: 95.1560577535\n",
      "Epoch: 9 cost: 71.2985588946\n",
      "Epoch: 10 cost: 84.6795923456\n",
      "Epoch: 11 cost: 59.8461864654\n",
      "Epoch: 12 cost: 73.0665503055\n",
      "Epoch: 13 cost: 53.1671821082\n",
      "Epoch: 14 cost: 64.0084844168\n",
      "Epoch: 15 cost: 56.6207385101\n",
      "Epoch: 16 cost: 44.8027359577\n",
      "Epoch: 17 cost: 43.6935647092\n",
      "Epoch: 18 cost: 53.9238657748\n",
      "Epoch: 19 cost: 40.705827117\n",
      "Epoch: 20 cost: 39.0404850853\n",
      "Epoch: 21 cost: 37.5860494096\n",
      "Epoch: 22 cost: 47.1978831012\n",
      "Epoch: 23 cost: 35.9635060442\n",
      "Epoch: 24 cost: 34.0782738848\n",
      "Epoch: 25 cost: 33.4056475293\n",
      "Epoch: 26 cost: 42.1175685664\n",
      "Epoch: 27 cost: 32.3761842479\n",
      "Epoch: 28 cost: 30.4116275209\n",
      "Epoch: 29 cost: 29.7433496993\n",
      "Epoch: 30 cost: 29.1089259673\n",
      "Epoch: 31 cost: 27.8325436013\n",
      "Epoch: 32 cost: 39.560482989\n",
      "Epoch: 33 cost: 27.9735631569\n",
      "Epoch: 34 cost: 26.3538039219\n",
      "Epoch: 35 cost: 25.934835382\n",
      "Epoch: 36 cost: 25.3739295196\n",
      "Epoch: 37 cost: 24.7988370391\n",
      "Epoch: 38 cost: 24.0727149878\n",
      "Epoch: 39 cost: 35.6825752537\n",
      "Epoch: 40 cost: 34.8441913368\n",
      "Epoch: 41 cost: 23.9829243862\n",
      "Epoch: 42 cost: 21.7609939105\n",
      "Epoch: 43 cost: 21.1555366093\n",
      "Epoch: 44 cost: 21.1170007728\n",
      "Epoch: 45 cost: 20.9690638601\n",
      "Epoch: 46 cost: 20.4189214318\n",
      "Epoch: 47 cost: 20.630761176\n",
      "Epoch: 48 cost: 20.4707099772\n",
      "Epoch: 49 cost: 20.0366123358\n",
      "Epoch: 50 cost: 20.0771636938\n",
      "Epoch: 51 cost: 19.8415599796\n",
      "Epoch: 52 cost: 19.9158508617\n",
      "Epoch: 53 cost: 20.0101434656\n",
      "Epoch: 54 cost: 20.2880730857\n",
      "Epoch: 55 cost: 36.9216887342\n",
      "Epoch: 56 cost: 36.423003132\n",
      "Epoch: 57 cost: 20.6293526017\n",
      "Epoch: 58 cost: 17.6507560412\n",
      "Epoch: 59 cost: 16.0630465142\n",
      "Epoch: 60 cost: 15.501081875\n",
      "Epoch: 61 cost: 15.6859483491\n",
      "Epoch: 62 cost: 16.0094791906\n",
      "Epoch: 63 cost: 16.3129896432\n",
      "Epoch: 64 cost: 16.3716554317\n",
      "Epoch: 65 cost: 16.8286913252\n",
      "Epoch: 66 cost: 16.612374703\n",
      "Epoch: 67 cost: 16.461481341\n",
      "Epoch: 68 cost: 16.680741613\n",
      "Epoch: 69 cost: 16.9895783755\n",
      "Epoch: 70 cost: 17.2073016116\n",
      "Epoch: 71 cost: 17.3479028357\n",
      "Epoch: 72 cost: 33.4815784312\n",
      "Epoch: 73 cost: 34.88421079\n",
      "Epoch: 74 cost: 32.7583738205\n",
      "Epoch: 75 cost: 16.9722070914\n",
      "Epoch: 76 cost: 14.1169829944\n",
      "Epoch: 77 cost: 12.9166151143\n",
      "Epoch: 78 cost: 12.4987953369\n",
      "Epoch: 79 cost: 12.2616549312\n",
      "Epoch: 80 cost: 12.0170434555\n",
      "Epoch: 81 cost: 11.9829353464\n",
      "Epoch: 82 cost: 12.0871166412\n",
      "Epoch: 83 cost: 12.2893518231\n",
      "Epoch: 84 cost: 12.4944157906\n",
      "Epoch: 85 cost: 12.8190436453\n",
      "Epoch: 86 cost: 12.9724542245\n",
      "Epoch: 87 cost: 13.2578364211\n",
      "Epoch: 88 cost: 13.6236067357\n",
      "Epoch: 89 cost: 13.7627299013\n",
      "Epoch: 90 cost: 14.4040993064\n",
      "Epoch: 91 cost: 15.1192841343\n",
      "Epoch: 92 cost: 14.8639642596\n",
      "Epoch: 93 cost: 14.7764266564\n",
      "Epoch: 94 cost: 31.2170278956\n",
      "Epoch: 95 cost: 34.7575472466\n",
      "Epoch: 96 cost: 30.9189292384\n",
      "Epoch: 97 cost: 15.6314108422\n",
      "Epoch: 98 cost: 11.4471854111\n",
      "Epoch: 99 cost: 10.0136429257\n",
      "Epoch: 100 cost: 9.56992219087\n",
      "Optimization Finished!\n",
      "('Accuracy:', 0.77073735)\n"
     ]
    }
   ],
   "source": [
    "\n",
    "Bsize = 256\n",
    "Tsize = len(x_train)\n",
    "Nbatch = int(Tsize/Bsize)\n",
    "if Tsize/(Bsize*1.0) != Nbatch:\n",
    "    Nbatch = Nbatch + 1\n",
    "print 'Total Number of Batches:',Nbatch\n",
    "nEpochs = 100\n",
    "\n",
    "sess = tf.Session()\n",
    "# with tf.Session() as sess:\n",
    "sess.run(init)\n",
    "for epoch in range(nEpochs):\n",
    "    print \"Epoch:\",epoch+1,\n",
    "\n",
    "    avg_cost = 0.\n",
    "    for i in range(Nbatch):\n",
    "        if(i+1 == Nbatch):\n",
    "            a = (i)*Bsize+1\n",
    "            b = Tsize\n",
    "        else:\n",
    "            a = (i)*Bsize+1\n",
    "            b = (i+1)*Bsize\n",
    "\n",
    "        # print a,b\n",
    "        batch_x = x_train[a-1:b]\n",
    "        batch_y = lab_train[a-1:b]\n",
    "        # print np.shape(x_train),np.shape(batch_x)\n",
    "        _, c = sess.run([optimizer, cost], feed_dict={x: batch_x,\n",
    "                                                      y: batch_y})\n",
    "        avg_cost = avg_cost + c\n",
    "\n",
    "    print \"cost:\",avg_cost/(Nbatch*1.0)\n",
    "print(\"Optimization Finished!\")\n",
    "correct_prediction = tf.equal(tf.argmax(pred, 1), tf.argmax(y, 1))\n",
    "\n",
    "accuracy = tf.reduce_mean(tf.cast(correct_prediction, \"float\"))\n",
    "print(\"Accuracy:\", sess.run(accuracy, feed_dict = {x: x_test, y: lab_test}))"
   ]
  },
  {
   "cell_type": "code",
   "execution_count": 5,
   "metadata": {
    "collapsed": false
   },
   "outputs": [
    {
     "name": "stdout",
     "output_type": "stream",
     "text": [
      "('Accuracy:', 0.77073735)\n"
     ]
    }
   ],
   "source": [
    "correct_prediction = tf.equal(tf.argmax(pred, 1), tf.argmax(y, 1))\n",
    "\n",
    "accuracy = tf.reduce_mean(tf.cast(correct_prediction, \"float\"))\n",
    "print(\"Accuracy:\", sess.run(accuracy, feed_dict = {x: x_test, y: lab_test}))"
   ]
  },
  {
   "cell_type": "code",
   "execution_count": 41,
   "metadata": {
    "collapsed": false
   },
   "outputs": [],
   "source": [
    "t1 = sess.run(correct_prediction,feed_dict = {x: x_test, y: lab_test})\n"
   ]
  },
  {
   "cell_type": "code",
   "execution_count": 35,
   "metadata": {
    "collapsed": false
   },
   "outputs": [],
   "source": [
    "s1,s2 = sess.run([t3,t4] , feed_dict = {x: x_test, y: lab_test})"
   ]
  },
  {
   "cell_type": "code",
   "execution_count": 42,
   "metadata": {
    "collapsed": false
   },
   "outputs": [
    {
     "data": {
      "text/plain": [
       "array([False, False,  True, ...,  True,  True,  True], dtype=bool)"
      ]
     },
     "execution_count": 42,
     "metadata": {},
     "output_type": "execute_result"
    }
   ],
   "source": [
    "t1"
   ]
  },
  {
   "cell_type": "code",
   "execution_count": 46,
   "metadata": {
    "collapsed": false
   },
   "outputs": [
    {
     "name": "stdout",
     "output_type": "stream",
     "text": [
      "1782.0\n"
     ]
    }
   ],
   "source": [
    "t2 = tf.reduce_sum(tf.cast(t1,\"float\"))\n",
    "print sess.run(t2)"
   ]
  },
  {
   "cell_type": "code",
   "execution_count": 47,
   "metadata": {
    "collapsed": false
   },
   "outputs": [
    {
     "data": {
      "text/plain": [
       "2604"
      ]
     },
     "execution_count": 47,
     "metadata": {},
     "output_type": "execute_result"
    }
   ],
   "source": [
    "len(t1)"
   ]
  },
  {
   "cell_type": "code",
   "execution_count": 11,
   "metadata": {
    "collapsed": false
   },
   "outputs": [
    {
     "name": "stdout",
     "output_type": "stream",
     "text": [
      "[[ -1.67639103e+01   1.43366706e+00  -1.73662201e+02]\n",
      " [ -2.30107754e-01   1.99578514e+01  -1.27069565e+02]\n",
      " [  5.67272043e+00  -5.49980011e+01  -2.42515545e+01]\n",
      " ..., \n",
      " [ -3.72981323e+03  -5.08399609e+03  -1.44776474e+02]\n",
      " [ -4.04178979e+03  -4.91788623e+03   8.46981873e+02]\n",
      " [ -3.63589966e+03  -5.14513574e+03  -2.30477264e+02]]\n"
     ]
    }
   ],
   "source": []
  },
  {
   "cell_type": "code",
   "execution_count": 12,
   "metadata": {
    "collapsed": true
   },
   "outputs": [],
   "source": [
    "t1 = tf.argmax(pr,1)"
   ]
  },
  {
   "cell_type": "code",
   "execution_count": 16,
   "metadata": {
    "collapsed": false
   },
   "outputs": [],
   "source": [
    "t2 = sess.run(t1)"
   ]
  },
  {
   "cell_type": "code",
   "execution_count": 18,
   "metadata": {
    "collapsed": false
   },
   "outputs": [
    {
     "name": "stdout",
     "output_type": "stream",
     "text": [
      "[1 1 0 ..., 2 2 2]\n"
     ]
    }
   ],
   "source": [
    "print t2"
   ]
  },
  {
   "cell_type": "code",
   "execution_count": null,
   "metadata": {
    "collapsed": true
   },
   "outputs": [],
   "source": []
  }
 ],
 "metadata": {
  "kernelspec": {
   "display_name": "Python 2",
   "language": "python",
   "name": "python2"
  },
  "language_info": {
   "codemirror_mode": {
    "name": "ipython",
    "version": 2
   },
   "file_extension": ".py",
   "mimetype": "text/x-python",
   "name": "python",
   "nbconvert_exporter": "python",
   "pygments_lexer": "ipython2",
   "version": "2.7.12"
  }
 },
 "nbformat": 4,
 "nbformat_minor": 1
}
